{
  "cells": [
    {
      "cell_type": "markdown",
      "metadata": {
        "id": "NWCIKmTo1FaA"
      },
      "source": [
        "## **Dependencies**"
      ]
    },
    {
      "cell_type": "code",
      "execution_count": 1,
      "metadata": {
        "id": "UYnhpNlj1FaE"
      },
      "outputs": [],
      "source": [
        "import numpy as np \n",
        "import pandas as pd\n",
        "import matplotlib.pyplot as plt\n",
        "\n",
        "from sklearn.impute import SimpleImputer\n",
        "from sklearn.preprocessing import StandardScaler\n",
        "from sklearn.feature_extraction.text import TfidfVectorizer\n",
        "from sklearn.model_selection import train_test_split, RandomizedSearchCV\n",
        "from sklearn.linear_model import LogisticRegressionCV\n",
        "from sklearn.svm import SVC \n",
        "from sklearn.gaussian_process import GaussianProcessClassifier\n",
        "from sklearn.gaussian_process.kernels import RBF, DotProduct\n",
        "from sklearn.pipeline import Pipeline\n",
        "from sklearn.metrics import roc_auc_score, accuracy_score, confusion_matrix\n",
        "\n",
        "from xgboost import XGBClassifier\n",
        "\n",
        "from sklearn.ensemble import RandomForestClassifier\n",
        "\n",
        "from imblearn.combine import SMOTETomek # because our data is unbalanced\n",
        "\n",
        "random_state = 42\n",
        "np.random.seed(random_state)\n"
      ]
    },
    {
      "cell_type": "markdown",
      "metadata": {
        "id": "RFocurx_1FaG"
      },
      "source": [
        "## **Data Processing**"
      ]
    },
    {
      "cell_type": "code",
      "source": [
        "from google.colab import drive\n",
        "drive.mount('/content/drive')\n",
        "\n",
        "import os\n",
        "os.chdir('/content/drive/MyDrive')"
      ],
      "metadata": {
        "colab": {
          "base_uri": "https://localhost:8080/"
        },
        "id": "JNQloHvy1vA5",
        "outputId": "380c3cc8-afb6-4a1d-c088-2c71c9583684"
      },
      "execution_count": 2,
      "outputs": [
        {
          "output_type": "stream",
          "name": "stdout",
          "text": [
            "Mounted at /content/drive\n"
          ]
        }
      ]
    },
    {
      "cell_type": "code",
      "execution_count": 3,
      "metadata": {
        "id": "pWiQZfX91FaG"
      },
      "outputs": [],
      "source": [
        "dat_nurse = pd.read_csv('./prepared_1061.csv')"
      ]
    },
    {
      "cell_type": "code",
      "source": [
        "dat_nurse.head()"
      ],
      "metadata": {
        "colab": {
          "base_uri": "https://localhost:8080/",
          "height": 786
        },
        "id": "2prsCsLZ2Nh7",
        "outputId": "8f47a805-a789-4c21-aba4-43237354b60c"
      },
      "execution_count": 4,
      "outputs": [
        {
          "output_type": "execute_result",
          "data": {
            "text/plain": [
              "   HADM_ID  group      ID  outcome  age  gendera       BMI  hypertensive  \\\n",
              "0   100213      1  100213      0.0   74        2  26.81457             1   \n",
              "1   100449      2  100449      0.0   87        1  24.00000             1   \n",
              "2   100571      1  100571      0.0   67        1  32.28435             1   \n",
              "3   100610      1  100610      0.0   81        2       NaN             1   \n",
              "4   100660      1  100660      0.0   75        1       NaN             1   \n",
              "\n",
              "   atrialfibrillation  CHD with no MI  ...   ROW_ID  SUBJECT_ID   CHARTDATE  \\\n",
              "0                   0               0  ...  1170971       85723  2154-02-13   \n",
              "1                   0               0  ...  1203496       77177  2137-08-16   \n",
              "2                   0               0  ...  1058554       99008  2173-02-19   \n",
              "3                   1               0  ...  1221573       68674  2136-12-19   \n",
              "4                   0               0  ...   948144         631  2124-01-23   \n",
              "\n",
              "             CHARTTIME            STORETIME   CATEGORY          DESCRIPTION  \\\n",
              "0  2154-02-13 00:49:00                  NaN  Radiology  CHEST (PORTABLE AP)   \n",
              "1  2137-08-16 08:11:00                  NaN  Radiology  CHEST (PORTABLE AP)   \n",
              "2  2173-02-19 19:18:00  2173-02-20 06:44:48  Radiology  CHEST (PORTABLE AP)   \n",
              "3  2136-12-19 16:32:00                  NaN  Radiology  CHEST (PORTABLE AP)   \n",
              "4  2124-01-23 13:11:00  2124-01-23 14:07:00  Radiology  CHEST (PORTABLE AP)   \n",
              "\n",
              "      CGID  ISERROR                                               TEXT  \n",
              "0      NaN      NaN  [**2154-2-13**] 12:49 AM\\n CHEST (PORTABLE AP)...  \n",
              "1      NaN      NaN  [**2137-8-16**] 8:11 AM\\n CHEST (PORTABLE AP) ...  \n",
              "2  18928.0      NaN  [**2173-2-19**] 7:18 PM\\n CHEST (PORTABLE AP) ...  \n",
              "3      NaN      NaN  [**2136-12-19**] 4:32 PM\\n CHEST (PORTABLE AP)...  \n",
              "4  15597.0      NaN  [**2124-1-23**] 1:11 PM\\n CHEST (PORTABLE AP) ...  \n",
              "\n",
              "[5 rows x 62 columns]"
            ],
            "text/html": [
              "\n",
              "  <div id=\"df-ed62b9e1-763d-47ea-801f-5e6bb2dba76e\">\n",
              "    <div class=\"colab-df-container\">\n",
              "      <div>\n",
              "<style scoped>\n",
              "    .dataframe tbody tr th:only-of-type {\n",
              "        vertical-align: middle;\n",
              "    }\n",
              "\n",
              "    .dataframe tbody tr th {\n",
              "        vertical-align: top;\n",
              "    }\n",
              "\n",
              "    .dataframe thead th {\n",
              "        text-align: right;\n",
              "    }\n",
              "</style>\n",
              "<table border=\"1\" class=\"dataframe\">\n",
              "  <thead>\n",
              "    <tr style=\"text-align: right;\">\n",
              "      <th></th>\n",
              "      <th>HADM_ID</th>\n",
              "      <th>group</th>\n",
              "      <th>ID</th>\n",
              "      <th>outcome</th>\n",
              "      <th>age</th>\n",
              "      <th>gendera</th>\n",
              "      <th>BMI</th>\n",
              "      <th>hypertensive</th>\n",
              "      <th>atrialfibrillation</th>\n",
              "      <th>CHD with no MI</th>\n",
              "      <th>...</th>\n",
              "      <th>ROW_ID</th>\n",
              "      <th>SUBJECT_ID</th>\n",
              "      <th>CHARTDATE</th>\n",
              "      <th>CHARTTIME</th>\n",
              "      <th>STORETIME</th>\n",
              "      <th>CATEGORY</th>\n",
              "      <th>DESCRIPTION</th>\n",
              "      <th>CGID</th>\n",
              "      <th>ISERROR</th>\n",
              "      <th>TEXT</th>\n",
              "    </tr>\n",
              "  </thead>\n",
              "  <tbody>\n",
              "    <tr>\n",
              "      <th>0</th>\n",
              "      <td>100213</td>\n",
              "      <td>1</td>\n",
              "      <td>100213</td>\n",
              "      <td>0.0</td>\n",
              "      <td>74</td>\n",
              "      <td>2</td>\n",
              "      <td>26.81457</td>\n",
              "      <td>1</td>\n",
              "      <td>0</td>\n",
              "      <td>0</td>\n",
              "      <td>...</td>\n",
              "      <td>1170971</td>\n",
              "      <td>85723</td>\n",
              "      <td>2154-02-13</td>\n",
              "      <td>2154-02-13 00:49:00</td>\n",
              "      <td>NaN</td>\n",
              "      <td>Radiology</td>\n",
              "      <td>CHEST (PORTABLE AP)</td>\n",
              "      <td>NaN</td>\n",
              "      <td>NaN</td>\n",
              "      <td>[**2154-2-13**] 12:49 AM\\n CHEST (PORTABLE AP)...</td>\n",
              "    </tr>\n",
              "    <tr>\n",
              "      <th>1</th>\n",
              "      <td>100449</td>\n",
              "      <td>2</td>\n",
              "      <td>100449</td>\n",
              "      <td>0.0</td>\n",
              "      <td>87</td>\n",
              "      <td>1</td>\n",
              "      <td>24.00000</td>\n",
              "      <td>1</td>\n",
              "      <td>0</td>\n",
              "      <td>0</td>\n",
              "      <td>...</td>\n",
              "      <td>1203496</td>\n",
              "      <td>77177</td>\n",
              "      <td>2137-08-16</td>\n",
              "      <td>2137-08-16 08:11:00</td>\n",
              "      <td>NaN</td>\n",
              "      <td>Radiology</td>\n",
              "      <td>CHEST (PORTABLE AP)</td>\n",
              "      <td>NaN</td>\n",
              "      <td>NaN</td>\n",
              "      <td>[**2137-8-16**] 8:11 AM\\n CHEST (PORTABLE AP) ...</td>\n",
              "    </tr>\n",
              "    <tr>\n",
              "      <th>2</th>\n",
              "      <td>100571</td>\n",
              "      <td>1</td>\n",
              "      <td>100571</td>\n",
              "      <td>0.0</td>\n",
              "      <td>67</td>\n",
              "      <td>1</td>\n",
              "      <td>32.28435</td>\n",
              "      <td>1</td>\n",
              "      <td>0</td>\n",
              "      <td>0</td>\n",
              "      <td>...</td>\n",
              "      <td>1058554</td>\n",
              "      <td>99008</td>\n",
              "      <td>2173-02-19</td>\n",
              "      <td>2173-02-19 19:18:00</td>\n",
              "      <td>2173-02-20 06:44:48</td>\n",
              "      <td>Radiology</td>\n",
              "      <td>CHEST (PORTABLE AP)</td>\n",
              "      <td>18928.0</td>\n",
              "      <td>NaN</td>\n",
              "      <td>[**2173-2-19**] 7:18 PM\\n CHEST (PORTABLE AP) ...</td>\n",
              "    </tr>\n",
              "    <tr>\n",
              "      <th>3</th>\n",
              "      <td>100610</td>\n",
              "      <td>1</td>\n",
              "      <td>100610</td>\n",
              "      <td>0.0</td>\n",
              "      <td>81</td>\n",
              "      <td>2</td>\n",
              "      <td>NaN</td>\n",
              "      <td>1</td>\n",
              "      <td>1</td>\n",
              "      <td>0</td>\n",
              "      <td>...</td>\n",
              "      <td>1221573</td>\n",
              "      <td>68674</td>\n",
              "      <td>2136-12-19</td>\n",
              "      <td>2136-12-19 16:32:00</td>\n",
              "      <td>NaN</td>\n",
              "      <td>Radiology</td>\n",
              "      <td>CHEST (PORTABLE AP)</td>\n",
              "      <td>NaN</td>\n",
              "      <td>NaN</td>\n",
              "      <td>[**2136-12-19**] 4:32 PM\\n CHEST (PORTABLE AP)...</td>\n",
              "    </tr>\n",
              "    <tr>\n",
              "      <th>4</th>\n",
              "      <td>100660</td>\n",
              "      <td>1</td>\n",
              "      <td>100660</td>\n",
              "      <td>0.0</td>\n",
              "      <td>75</td>\n",
              "      <td>1</td>\n",
              "      <td>NaN</td>\n",
              "      <td>1</td>\n",
              "      <td>0</td>\n",
              "      <td>0</td>\n",
              "      <td>...</td>\n",
              "      <td>948144</td>\n",
              "      <td>631</td>\n",
              "      <td>2124-01-23</td>\n",
              "      <td>2124-01-23 13:11:00</td>\n",
              "      <td>2124-01-23 14:07:00</td>\n",
              "      <td>Radiology</td>\n",
              "      <td>CHEST (PORTABLE AP)</td>\n",
              "      <td>15597.0</td>\n",
              "      <td>NaN</td>\n",
              "      <td>[**2124-1-23**] 1:11 PM\\n CHEST (PORTABLE AP) ...</td>\n",
              "    </tr>\n",
              "  </tbody>\n",
              "</table>\n",
              "<p>5 rows × 62 columns</p>\n",
              "</div>\n",
              "      <button class=\"colab-df-convert\" onclick=\"convertToInteractive('df-ed62b9e1-763d-47ea-801f-5e6bb2dba76e')\"\n",
              "              title=\"Convert this dataframe to an interactive table.\"\n",
              "              style=\"display:none;\">\n",
              "        \n",
              "  <svg xmlns=\"http://www.w3.org/2000/svg\" height=\"24px\"viewBox=\"0 0 24 24\"\n",
              "       width=\"24px\">\n",
              "    <path d=\"M0 0h24v24H0V0z\" fill=\"none\"/>\n",
              "    <path d=\"M18.56 5.44l.94 2.06.94-2.06 2.06-.94-2.06-.94-.94-2.06-.94 2.06-2.06.94zm-11 1L8.5 8.5l.94-2.06 2.06-.94-2.06-.94L8.5 2.5l-.94 2.06-2.06.94zm10 10l.94 2.06.94-2.06 2.06-.94-2.06-.94-.94-2.06-.94 2.06-2.06.94z\"/><path d=\"M17.41 7.96l-1.37-1.37c-.4-.4-.92-.59-1.43-.59-.52 0-1.04.2-1.43.59L10.3 9.45l-7.72 7.72c-.78.78-.78 2.05 0 2.83L4 21.41c.39.39.9.59 1.41.59.51 0 1.02-.2 1.41-.59l7.78-7.78 2.81-2.81c.8-.78.8-2.07 0-2.86zM5.41 20L4 18.59l7.72-7.72 1.47 1.35L5.41 20z\"/>\n",
              "  </svg>\n",
              "      </button>\n",
              "      \n",
              "  <style>\n",
              "    .colab-df-container {\n",
              "      display:flex;\n",
              "      flex-wrap:wrap;\n",
              "      gap: 12px;\n",
              "    }\n",
              "\n",
              "    .colab-df-convert {\n",
              "      background-color: #E8F0FE;\n",
              "      border: none;\n",
              "      border-radius: 50%;\n",
              "      cursor: pointer;\n",
              "      display: none;\n",
              "      fill: #1967D2;\n",
              "      height: 32px;\n",
              "      padding: 0 0 0 0;\n",
              "      width: 32px;\n",
              "    }\n",
              "\n",
              "    .colab-df-convert:hover {\n",
              "      background-color: #E2EBFA;\n",
              "      box-shadow: 0px 1px 2px rgba(60, 64, 67, 0.3), 0px 1px 3px 1px rgba(60, 64, 67, 0.15);\n",
              "      fill: #174EA6;\n",
              "    }\n",
              "\n",
              "    [theme=dark] .colab-df-convert {\n",
              "      background-color: #3B4455;\n",
              "      fill: #D2E3FC;\n",
              "    }\n",
              "\n",
              "    [theme=dark] .colab-df-convert:hover {\n",
              "      background-color: #434B5C;\n",
              "      box-shadow: 0px 1px 3px 1px rgba(0, 0, 0, 0.15);\n",
              "      filter: drop-shadow(0px 1px 2px rgba(0, 0, 0, 0.3));\n",
              "      fill: #FFFFFF;\n",
              "    }\n",
              "  </style>\n",
              "\n",
              "      <script>\n",
              "        const buttonEl =\n",
              "          document.querySelector('#df-ed62b9e1-763d-47ea-801f-5e6bb2dba76e button.colab-df-convert');\n",
              "        buttonEl.style.display =\n",
              "          google.colab.kernel.accessAllowed ? 'block' : 'none';\n",
              "\n",
              "        async function convertToInteractive(key) {\n",
              "          const element = document.querySelector('#df-ed62b9e1-763d-47ea-801f-5e6bb2dba76e');\n",
              "          const dataTable =\n",
              "            await google.colab.kernel.invokeFunction('convertToInteractive',\n",
              "                                                     [key], {});\n",
              "          if (!dataTable) return;\n",
              "\n",
              "          const docLinkHtml = 'Like what you see? Visit the ' +\n",
              "            '<a target=\"_blank\" href=https://colab.research.google.com/notebooks/data_table.ipynb>data table notebook</a>'\n",
              "            + ' to learn more about interactive tables.';\n",
              "          element.innerHTML = '';\n",
              "          dataTable['output_type'] = 'display_data';\n",
              "          await google.colab.output.renderOutput(dataTable, element);\n",
              "          const docLink = document.createElement('div');\n",
              "          docLink.innerHTML = docLinkHtml;\n",
              "          element.appendChild(docLink);\n",
              "        }\n",
              "      </script>\n",
              "    </div>\n",
              "  </div>\n",
              "  "
            ]
          },
          "metadata": {},
          "execution_count": 4
        }
      ]
    },
    {
      "cell_type": "code",
      "execution_count": 5,
      "metadata": {
        "colab": {
          "base_uri": "https://localhost:8080/"
        },
        "id": "OGJaLTK_1FaH",
        "outputId": "53c09fb6-f103-4d83-a9e9-af0c6cac0d3d"
      },
      "outputs": [
        {
          "output_type": "stream",
          "name": "stdout",
          "text": [
            "<class 'pandas.core.frame.DataFrame'>\n",
            "RangeIndex: 1061 entries, 0 to 1060\n",
            "Data columns (total 62 columns):\n",
            " #   Column                    Non-Null Count  Dtype  \n",
            "---  ------                    --------------  -----  \n",
            " 0   HADM_ID                   1061 non-null   int64  \n",
            " 1   group                     1061 non-null   int64  \n",
            " 2   ID                        1061 non-null   int64  \n",
            " 3   outcome                   1060 non-null   float64\n",
            " 4   age                       1061 non-null   int64  \n",
            " 5   gendera                   1061 non-null   int64  \n",
            " 6   BMI                       865 non-null    float64\n",
            " 7   hypertensive              1061 non-null   int64  \n",
            " 8   atrialfibrillation        1061 non-null   int64  \n",
            " 9   CHD with no MI            1061 non-null   int64  \n",
            " 10  diabetes                  1061 non-null   int64  \n",
            " 11  deficiencyanemias         1061 non-null   int64  \n",
            " 12  depression                1061 non-null   int64  \n",
            " 13  Hyperlipemia              1061 non-null   int64  \n",
            " 14  Renal failure             1061 non-null   int64  \n",
            " 15  COPD                      1061 non-null   int64  \n",
            " 16  heart rate                1050 non-null   float64\n",
            " 17  Systolic blood pressure   1049 non-null   float64\n",
            " 18  Diastolic blood pressure  1049 non-null   float64\n",
            " 19  Respiratory rate          1050 non-null   float64\n",
            " 20  temperature               1045 non-null   float64\n",
            " 21  SP O2                     1050 non-null   float64\n",
            " 22  Urine output              1028 non-null   float64\n",
            " 23  hematocrit                1061 non-null   float64\n",
            " 24  RBC                       1061 non-null   float64\n",
            " 25  MCH                       1061 non-null   float64\n",
            " 26  MCHC                      1061 non-null   float64\n",
            " 27  MCV                       1061 non-null   float64\n",
            " 28  RDW                       1061 non-null   float64\n",
            " 29  Leucocyte                 1061 non-null   float64\n",
            " 30  Platelets                 1061 non-null   float64\n",
            " 31  Neutrophils               929 non-null    float64\n",
            " 32  Basophils                 822 non-null    float64\n",
            " 33  Lymphocyte                928 non-null    float64\n",
            " 34  PT                        1042 non-null   float64\n",
            " 35  INR                       1042 non-null   float64\n",
            " 36  NT-proBNP                 1061 non-null   float64\n",
            " 37  Creatine kinase           924 non-null    float64\n",
            " 38  Creatinine                1061 non-null   float64\n",
            " 39  Urea nitrogen             1061 non-null   float64\n",
            " 40  glucose                   1046 non-null   float64\n",
            " 41  Blood potassium           1061 non-null   float64\n",
            " 42  Blood sodium              1061 non-null   float64\n",
            " 43  Blood calcium             1060 non-null   float64\n",
            " 44  Chloride                  1061 non-null   float64\n",
            " 45  Anion gap                 1061 non-null   float64\n",
            " 46  Magnesium ion             1061 non-null   float64\n",
            " 47  PH                        800 non-null    float64\n",
            " 48  Bicarbonate               1061 non-null   float64\n",
            " 49  Lactic acid               851 non-null    float64\n",
            " 50  PCO2                      798 non-null    float64\n",
            " 51  EF                        1061 non-null   int64  \n",
            " 52  ROW_ID                    1061 non-null   int64  \n",
            " 53  SUBJECT_ID                1061 non-null   int64  \n",
            " 54  CHARTDATE                 1061 non-null   object \n",
            " 55  CHARTTIME                 1061 non-null   object \n",
            " 56  STORETIME                 641 non-null    object \n",
            " 57  CATEGORY                  1061 non-null   object \n",
            " 58  DESCRIPTION               1061 non-null   object \n",
            " 59  CGID                      641 non-null    float64\n",
            " 60  ISERROR                   16 non-null     float64\n",
            " 61  TEXT                      1061 non-null   object \n",
            "dtypes: float64(39), int64(17), object(6)\n",
            "memory usage: 514.0+ KB\n"
          ]
        }
      ],
      "source": [
        "dat_nurse.info()"
      ]
    },
    {
      "cell_type": "code",
      "execution_count": 6,
      "metadata": {
        "colab": {
          "base_uri": "https://localhost:8080/",
          "height": 484
        },
        "id": "-urxzV5e1FaI",
        "outputId": "68fa3c98-01bf-4381-85ce-37024545c238"
      },
      "outputs": [
        {
          "output_type": "execute_result",
          "data": {
            "text/plain": [
              "(array([921.,   0.,   0.,   0.,   0.,   0.,   0.,   0.,   0., 139.]),\n",
              " array([0. , 0.1, 0.2, 0.3, 0.4, 0.5, 0.6, 0.7, 0.8, 0.9, 1. ]),\n",
              " <BarContainer object of 10 artists>)"
            ]
          },
          "metadata": {},
          "execution_count": 6
        },
        {
          "output_type": "display_data",
          "data": {
            "text/plain": [
              "<Figure size 640x480 with 1 Axes>"
            ],
            "image/png": "[encoded data removed]"
          },
          "metadata": {}
        }
      ],
      "source": [
        "plt.hist(dat_nurse['outcome'])"
      ]
    },
    {
      "cell_type": "code",
      "execution_count": 7,
      "metadata": {
        "id": "D1TQCdIt1FaJ"
      },
      "outputs": [],
      "source": [
        "# drop na (outcome na)\n",
        "dat_nurse = dat_nurse[dat_nurse['outcome'].notnull()]\n",
        "# train-test-split\n",
        "train_dat, test_dat = train_test_split(dat_nurse, test_size = 0.15,  stratify=dat_nurse['outcome'], random_state=random_state)\n",
        "# val_dat, test_dat = train_test_split(test_dat, test_size = 0.5, stratify=test_dat['outcome'], random_state=random_state)"
      ]
    },
    {
      "cell_type": "code",
      "execution_count": 8,
      "metadata": {
        "id": "E8WH_VyW1FaJ"
      },
      "outputs": [],
      "source": [
        "# organizing data\n",
        "clin_col = train_dat.columns[4:-10] # remove IDs, outcome, text\n",
        "outcome_col = train_dat.columns[3]\n",
        "text_col = train_dat.columns[-8:]\n",
        "\n",
        "train_dat_clin, test_dat_clin = train_dat.loc[:, clin_col], test_dat.loc[:, clin_col]\n",
        "train_dat_outcome, test_dat_outcome = train_dat.loc[:, outcome_col], test_dat.loc[:, outcome_col]\n",
        "train_dat_text, test_dat_text = train_dat.loc[:, text_col], test_dat.loc[:, text_col]"
      ]
    },
    {
      "cell_type": "code",
      "execution_count": 9,
      "metadata": {
        "id": "SsliqWHa1FaL"
      },
      "outputs": [],
      "source": [
        "# tfidf\n",
        "train_doc = list(train_dat['TEXT'])\n",
        "# val_doc = list(val_dat['TEXT'])\n",
        "test_doc = list(test_dat['TEXT'])\n",
        "\n",
        "tfidf_vectorizer = TfidfVectorizer(binary = True) # default l2 reg, 1-grams, binary word\n",
        "tfidf_vectorizer.fit(train_doc)\n",
        "train_dat_text_tfidf = tfidf_vectorizer.transform(train_doc).toarray()\n",
        "# val_dat_text_tfidf = tfidf_vectorizer.transform(val_doc).toarray()\n",
        "test_dat_text_tfidf = tfidf_vectorizer.transform(test_doc).toarray()"
      ]
    },
    {
      "cell_type": "code",
      "execution_count": 10,
      "metadata": {
        "colab": {
          "base_uri": "https://localhost:8080/"
        },
        "id": "6gTPSJlI1FaL",
        "outputId": "4c15a8b1-c527-4511-b97e-2ffda240d8be"
      },
      "outputs": [
        {
          "output_type": "stream",
          "name": "stdout",
          "text": [
            "(901, 7926)\n"
          ]
        }
      ],
      "source": [
        "print(train_dat_text_tfidf.shape)"
      ]
    },
    {
      "cell_type": "code",
      "execution_count": 11,
      "metadata": {
        "id": "NrUjs4dz1FaP",
        "colab": {
          "base_uri": "https://localhost:8080/"
        },
        "outputId": "47d5ebdf-72ce-43c3-d459-eff34cabe0b6"
      },
      "outputs": [
        {
          "output_type": "stream",
          "name": "stdout",
          "text": [
            "train/val/test shape:  (901, 7926) (159, 7926)\n"
          ]
        }
      ],
      "source": [
        "# combining data together\n",
        "train_x = np.hstack([train_dat_text_tfidf])\n",
        "# val_x = np.hstack([val_dat_text_tfidf])\n",
        "test_x = np.hstack([test_dat_text_tfidf])\n",
        "\n",
        "train_y = train_dat_outcome.to_numpy()\n",
        "# val_y = val_dat_outcome.to_numpy()\n",
        "test_y = test_dat_outcome.to_numpy()\n",
        "\n",
        "# https://imbalanced-learn.org/stable/combine.html\n",
        "print(\"train/val/test shape: \", train_x.shape, test_x.shape)#, val_x.shape, test_x.shape)"
      ]
    },
    {
      "cell_type": "code",
      "execution_count": 12,
      "metadata": {
        "colab": {
          "base_uri": "https://localhost:8080/"
        },
        "id": "sBqzAdl21FaP",
        "outputId": "098c25c1-af65-4fab-d5d9-e542c13b2925"
      },
      "outputs": [
        {
          "output_type": "stream",
          "name": "stdout",
          "text": [
            "(783, 7926) (118, 7926)\n",
            "(783, 7926) (783, 7926)\n"
          ]
        }
      ],
      "source": [
        "# # SMOTE for imbalance\n",
        "smote_tomek = SMOTETomek(random_state = random_state)\n",
        "train_x_resamp, train_y_resamp = smote_tomek.fit_resample(train_x, train_y)\n",
        "print(train_x[train_y == 0].shape, train_x[train_y == 1].shape)\n",
        "print(train_x_resamp[train_y_resamp == 0].shape, train_x_resamp[train_y_resamp == 1].shape)"
      ]
    },
    {
      "cell_type": "code",
      "source": [
        "sum(train_x_resamp[0] != 0)"
      ],
      "metadata": {
        "colab": {
          "base_uri": "https://localhost:8080/"
        },
        "id": "iq6_hJyR9ZOi",
        "outputId": "354706f5-c66b-4905-e1cf-a44db91c24eb"
      },
      "execution_count": 13,
      "outputs": [
        {
          "output_type": "execute_result",
          "data": {
            "text/plain": [
              "267"
            ]
          },
          "metadata": {},
          "execution_count": 13
        }
      ]
    },
    {
      "cell_type": "code",
      "source": [
        "sum(train_x_resamp[0] == 0)"
      ],
      "metadata": {
        "colab": {
          "base_uri": "https://localhost:8080/"
        },
        "id": "UQyQ3OoF-gOd",
        "outputId": "bf131c0d-d46a-42bf-ff4e-f2ae0435a812"
      },
      "execution_count": 14,
      "outputs": [
        {
          "output_type": "execute_result",
          "data": {
            "text/plain": [
              "7659"
            ]
          },
          "metadata": {},
          "execution_count": 14
        }
      ]
    },
    {
      "cell_type": "markdown",
      "source": [
        "## **PCA**"
      ],
      "metadata": {
        "id": "zsOfM0FBCx_7"
      }
    },
    {
      "cell_type": "code",
      "source": [
        "from sklearn.decomposition import PCA\n",
        "from sklearn.datasets import fetch_20newsgroups"
      ],
      "metadata": {
        "id": "QDX29BiSC2Av"
      },
      "execution_count": 15,
      "outputs": []
    },
    {
      "cell_type": "code",
      "source": [
        "n_components = 600 # Choose the number of components to keep\n",
        "pca = PCA(n_components = n_components)\n",
        "train_x_pca = pca.fit_transform(train_x_resamp)"
      ],
      "metadata": {
        "id": "4L9qA6wsD76x"
      },
      "execution_count": 16,
      "outputs": []
    },
    {
      "cell_type": "code",
      "source": [
        "print(\"Original shape: \", train_x_resamp.shape)\n",
        "print(\"Reduced shape: \", train_x_pca.shape)"
      ],
      "metadata": {
        "colab": {
          "base_uri": "https://localhost:8080/"
        },
        "id": "vgRSDpiVEVfS",
        "outputId": "01e14f93-7f6a-4684-b519-f196558b327d"
      },
      "execution_count": 17,
      "outputs": [
        {
          "output_type": "stream",
          "name": "stdout",
          "text": [
            "Original shape:  (1566, 7926)\n",
            "Reduced shape:  (1566, 600)\n"
          ]
        }
      ]
    },
    {
      "cell_type": "code",
      "source": [
        "# Transform the test data using the fitted PCA model\n",
        "test_x_pca = pca.transform(test_x)"
      ],
      "metadata": {
        "id": "ATAeL6whH780"
      },
      "execution_count": 18,
      "outputs": []
    },
    {
      "cell_type": "markdown",
      "metadata": {
        "id": "86ygTs2A1FaT"
      },
      "source": [
        "## **Modelling**"
      ]
    },
    {
      "cell_type": "code",
      "execution_count": 19,
      "metadata": {
        "id": "HfS2Db8H1FaW"
      },
      "outputs": [],
      "source": [
        "params = {\n",
        "    'LogisticRegressionCV' : {\n",
        "        'penalty' : ['l2']\n",
        "    },\n",
        "    'SVC' : {\n",
        "        'kernel' : ['linear', 'poly', 'rbf'],\n",
        "        'degree' : [3, 4, 5]\n",
        "    },\n",
        "    'GaussianProcessClassifier' : { # https://stackoverflow.com/questions/62755556/gaussian-process-regression-hyparameter-optimisation-using-python-grid-search\n",
        "            \"kernel\": [RBF(l) for l in np.logspace(-1, 1, 20)]\n",
        "        },\n",
        "    'XGBClassifier' : { # got from some towardsdatascience article i forgot\n",
        "            'gamma': [0,0.1,0.2,0.4,0.8,1.6,3.2,6.4,12.8,25.6,51.2,102.4, 200],\n",
        "            'learning_rate': [0.01, 0.03, 0.06, 0.1, 0.15, 0.2, 0.25, 0.300000012, 0.4, 0.5, 0.6, 0.7],\n",
        "            'max_depth': [5,6,7,8,9,10,11,12,13,14],\n",
        "            'n_estimators': [50,65,80,100,115,130,150],\n",
        "            'reg_alpha': [0,0.1,0.2,0.4,0.8,1.6,3.2,6.4,12.8,25.6,51.2,102.4,200],\n",
        "            'reg_lambda': [0,0.1,0.2,0.4,0.8,1.6,3.2,6.4,12.8,25.6,51.2,102.4,200],\n",
        "            'eval_metric': ['auc'],\n",
        "            'objective': ['binary:logistic']\n",
        "    },\n",
        "    'RandomForestClassifier': {\n",
        "        'n_estimators': [10, 50, 100, 200],\n",
        "        'max_depth': [None, 10, 20, 30, 40, 50],\n",
        "        'min_samples_split': [2, 5, 10],\n",
        "        'min_samples_leaf': [1, 2, 4],\n",
        "        'bootstrap': [True, False],\n",
        "        'class_weight': [None, 'balanced', 'balanced_subsample']\n",
        "    }\n",
        "}"
      ]
    },
    {
      "cell_type": "code",
      "execution_count": 20,
      "metadata": {
        "id": "dE7gffcX1FaX"
      },
      "outputs": [],
      "source": [
        "def fit(x, y, parameters, n_iter, random_state = 42):\n",
        "    \"\"\"\n",
        "    Randomized hyperparameter tuning for fitting models\n",
        "\n",
        "    parameters:\n",
        "        n_iter -- number of parameter settings sampled\n",
        "    \"\"\"\n",
        "    print(\"Training LogisticRegressionCV:\")\n",
        "    lr = LogisticRegressionCV(max_iter = int(1e6))\n",
        "    rs_lr = RandomizedSearchCV(lr, parameters['LogisticRegressionCV'], n_iter = n_iter, random_state=random_state)\n",
        "    rs_lr.fit(x, y) \n",
        "\n",
        "    print(\"Training SVC:\")\n",
        "    svc = SVC(probability = True)\n",
        "    rs_svc = RandomizedSearchCV(svc, parameters['SVC'], n_iter = n_iter, random_state=random_state)\n",
        "    rs_svc.fit(x, y)\n",
        "\n",
        "    print(\"Training GaussianProcessClassifier:\")\n",
        "    gp = GaussianProcessClassifier()\n",
        "    rs_gp = RandomizedSearchCV(gp, parameters['GaussianProcessClassifier'], n_iter = n_iter, random_state=random_state)\n",
        "    rs_gp.fit(x, y)\n",
        "\n",
        "    print(\"Training XGBClassifier:\")\n",
        "    xgb = XGBClassifier()\n",
        "    rs_xgb = RandomizedSearchCV(xgb, parameters['XGBClassifier'], n_iter = n_iter, random_state=random_state)\n",
        "    rs_xgb.fit(x, y)\n",
        "\n",
        "    print(\"Training RandomForestClassifier:\")\n",
        "    rf = RandomForestClassifier(random_state=random_state)\n",
        "    rs_rf = RandomizedSearchCV(rf, parameters['RandomForestClassifier'], n_iter=n_iter, random_state=random_state)\n",
        "    rs_rf.fit(x, y)\n",
        "\n",
        "    models = [rs_lr, rs_svc, rs_gp, rs_xgb, rs_rf]\n",
        "    return models\n"
      ]
    },
    {
      "cell_type": "code",
      "execution_count": 21,
      "metadata": {
        "id": "n5ZYPfL31FaZ",
        "outputId": "b492a763-8f5a-4ebb-ec90-fe162f476d5c",
        "colab": {
          "base_uri": "https://localhost:8080/"
        }
      },
      "outputs": [
        {
          "output_type": "stream",
          "name": "stdout",
          "text": [
            "Training LogisticRegressionCV:\n"
          ]
        },
        {
          "output_type": "stream",
          "name": "stderr",
          "text": [
            "/usr/local/lib/python3.10/dist-packages/sklearn/model_selection/_search.py:305: UserWarning: The total space of parameters 1 is smaller than n_iter=20. Running 1 iterations. For exhaustive searches, use GridSearchCV.\n",
            "  warnings.warn(\n"
          ]
        },
        {
          "output_type": "stream",
          "name": "stdout",
          "text": [
            "Training SVC:\n"
          ]
        },
        {
          "output_type": "stream",
          "name": "stderr",
          "text": [
            "/usr/local/lib/python3.10/dist-packages/sklearn/model_selection/_search.py:305: UserWarning: The total space of parameters 9 is smaller than n_iter=20. Running 9 iterations. For exhaustive searches, use GridSearchCV.\n",
            "  warnings.warn(\n"
          ]
        },
        {
          "output_type": "stream",
          "name": "stdout",
          "text": [
            "Training GaussianProcessClassifier:\n",
            "Training XGBClassifier:\n",
            "Training RandomForestClassifier:\n"
          ]
        }
      ],
      "source": [
        "models = fit(train_x_pca, train_y_resamp, params, n_iter = 20, random_state = random_state)"
      ]
    },
    {
      "cell_type": "code",
      "execution_count": 22,
      "metadata": {
        "id": "NX46KZTk1Faa",
        "outputId": "910728fe-6c67-46c9-d978-02cdc7ab022a",
        "colab": {
          "base_uri": "https://localhost:8080/"
        }
      },
      "outputs": [
        {
          "output_type": "stream",
          "name": "stdout",
          "text": [
            "LogisticRegressionCV(max_iter=1000000) {'penalty': 'l2'} 0.9693453531674162\n",
            "SVC(kernel='poly', probability=True) {'kernel': 'poly', 'degree': 3} 0.998724079689058\n",
            "GaussianProcessClassifier(kernel=RBF(length_scale=0.1)) {'kernel': RBF(length_scale=0.1)} 0.9834069310758837\n",
            "XGBClassifier(base_score=None, booster=None, callbacks=None,\n",
            "              colsample_bylevel=None, colsample_bynode=None,\n",
            "              colsample_bytree=None, early_stopping_rounds=None,\n",
            "              enable_categorical=False, eval_metric='auc', feature_types=None,\n",
            "              gamma=0, gpu_id=None, grow_policy=None, importance_type=None,\n",
            "              interaction_constraints=None, learning_rate=0.5, max_bin=None,\n",
            "              max_cat_threshold=None, max_cat_to_onehot=None,\n",
            "              max_delta_step=None, max_depth=8, max_leaves=None,\n",
            "              min_child_weight=None, missing=nan, monotone_constraints=None,\n",
            "              n_estimators=65, n_jobs=None, num_parallel_tree=None,\n",
            "              predictor=None, random_state=None, ...) {'reg_lambda': 0.2, 'reg_alpha': 3.2, 'objective': 'binary:logistic', 'n_estimators': 65, 'max_depth': 8, 'learning_rate': 0.5, 'gamma': 0, 'eval_metric': 'auc'} 0.9936285382877841\n",
            "RandomForestClassifier(bootstrap=False, class_weight='balanced_subsample',\n",
            "                       max_depth=20, min_samples_split=5, random_state=42) {'n_estimators': 100, 'min_samples_split': 5, 'min_samples_leaf': 1, 'max_depth': 20, 'class_weight': 'balanced_subsample', 'bootstrap': False} 0.9923505830162187\n"
          ]
        }
      ],
      "source": [
        "for model in models:\n",
        "    print(model.best_estimator_, model.best_params_, model.best_score_)"
      ]
    },
    {
      "cell_type": "code",
      "execution_count": 23,
      "metadata": {
        "id": "hX-JYbMT1Faa"
      },
      "outputs": [],
      "source": [
        "def evaluate(x, y, models):\n",
        "    scores = {\n",
        "        'ACC': [], \n",
        "        'AUC': [],\n",
        "        'CMAT': []\n",
        "    }\n",
        "    for model in models:\n",
        "        y_pred = model.predict(x)\n",
        "        y_proba = model.predict_proba(x)[:, 1]\n",
        "        scores['ACC'].append(accuracy_score(y, y_pred))\n",
        "        scores['AUC'].append(roc_auc_score(y, y_proba))\n",
        "        scores['CMAT'].append(confusion_matrix(y, y_pred))\n",
        "        \n",
        "    return scores "
      ]
    },
    {
      "cell_type": "code",
      "execution_count": 24,
      "metadata": {
        "id": "yr1sy6sV1Fac",
        "outputId": "c94e550a-1450-4e7f-de20-3b3dd5757d5c",
        "colab": {
          "base_uri": "https://localhost:8080/"
        }
      },
      "outputs": [
        {
          "output_type": "execute_result",
          "data": {
            "text/plain": [
              "{'ACC': [0.8553459119496856,\n",
              "  0.8679245283018868,\n",
              "  0.8616352201257862,\n",
              "  0.8616352201257862,\n",
              "  0.8679245283018868],\n",
              " 'AUC': [0.4496204278812974,\n",
              "  0.4616977225672878,\n",
              "  0.4665286404416839,\n",
              "  0.6621808143547274,\n",
              "  0.4991373360938578],\n",
              " 'CMAT': [array([[135,   3],\n",
              "         [ 20,   1]]),\n",
              "  array([[138,   0],\n",
              "         [ 21,   0]]),\n",
              "  array([[135,   3],\n",
              "         [ 19,   2]]),\n",
              "  array([[137,   1],\n",
              "         [ 21,   0]]),\n",
              "  array([[138,   0],\n",
              "         [ 21,   0]])]}"
            ]
          },
          "metadata": {},
          "execution_count": 24
        }
      ],
      "source": [
        "evaluate(test_x_pca, test_y, models)"
      ]
    }
  ],
  "metadata": {
    "kernelspec": {
      "display_name": "bst263_final",
      "language": "python",
      "name": "python3"
    },
    "language_info": {
      "codemirror_mode": {
        "name": "ipython",
        "version": 3
      },
      "file_extension": ".py",
      "mimetype": "text/x-python",
      "name": "python",
      "nbconvert_exporter": "python",
      "pygments_lexer": "ipython3",
      "version": "3.9.16"
    },
    "orig_nbformat": 4,
    "colab": {
      "provenance": [],
      "machine_shape": "hm",
      "gpuType": "T4"
    },
    "accelerator": "GPU",
    "gpuClass": "standard"
  },
  "nbformat": 4,
  "nbformat_minor": 0
}